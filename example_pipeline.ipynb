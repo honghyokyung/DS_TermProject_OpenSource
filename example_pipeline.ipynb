{
 "cells": [
  {
   "cell_type": "markdown",
   "id": "ba495678",
   "metadata": {},
   "source": [
    "# 🔍 run_pipeline Example"
   ]
  },
  {
   "cell_type": "code",
   "execution_count": 3,
   "id": "9918f0aa",
   "metadata": {},
   "outputs": [
    {
     "ename": "ImportError",
     "evalue": "cannot import name 'run_pipeline' from 'run_pipeline' (c:\\Users\\hyoro\\OneDrive\\바탕 화면\\dataScience\\DS_TermProject-main\\run_pipeline.py)",
     "output_type": "error",
     "traceback": [
      "\u001b[1;31m---------------------------------------------------------------------------\u001b[0m",
      "\u001b[1;31mImportError\u001b[0m                               Traceback (most recent call last)",
      "Cell \u001b[1;32mIn[3], line 4\u001b[0m\n\u001b[0;32m      2\u001b[0m \u001b[38;5;28;01mimport\u001b[39;00m\u001b[38;5;250m \u001b[39m\u001b[38;5;21;01mmatplotlib\u001b[39;00m\u001b[38;5;21;01m.\u001b[39;00m\u001b[38;5;21;01mpyplot\u001b[39;00m\u001b[38;5;250m \u001b[39m\u001b[38;5;28;01mas\u001b[39;00m\u001b[38;5;250m \u001b[39m\u001b[38;5;21;01mplt\u001b[39;00m\n\u001b[0;32m      3\u001b[0m \u001b[38;5;28;01mimport\u001b[39;00m\u001b[38;5;250m \u001b[39m\u001b[38;5;21;01mseaborn\u001b[39;00m\u001b[38;5;250m \u001b[39m\u001b[38;5;28;01mas\u001b[39;00m\u001b[38;5;250m \u001b[39m\u001b[38;5;21;01msns\u001b[39;00m\n\u001b[1;32m----> 4\u001b[0m \u001b[38;5;28;01mfrom\u001b[39;00m\u001b[38;5;250m \u001b[39m\u001b[38;5;21;01mrun_pipeline\u001b[39;00m\u001b[38;5;250m \u001b[39m\u001b[38;5;28;01mimport\u001b[39;00m run_pipeline\n\u001b[0;32m      6\u001b[0m \u001b[38;5;66;03m#1. 데이터 불러오기\u001b[39;00m\n\u001b[0;32m      7\u001b[0m df \u001b[38;5;241m=\u001b[39m pd\u001b[38;5;241m.\u001b[39mread_excel(\u001b[38;5;124m\"\u001b[39m\u001b[38;5;124mfinal_dataset.xlsx\u001b[39m\u001b[38;5;124m\"\u001b[39m)\n",
      "\u001b[1;31mImportError\u001b[0m: cannot import name 'run_pipeline' from 'run_pipeline' (c:\\Users\\hyoro\\OneDrive\\바탕 화면\\dataScience\\DS_TermProject-main\\run_pipeline.py)"
     ]
    }
   ],
   "source": [
    "import pandas as pd\n",
    "import matplotlib.pyplot as plt\n",
    "import seaborn as sns\n",
    "from run_pipeline import run_pipeline\n",
    "\n",
    "#1. 데이터 불러오기\n",
    "df = pd.read_excel(\"final_dataset.xlsx\")\n",
    "\n",
    "#2. 타겟 생성: 음식/숙박비 지출 상위 25% 이상인 가구\n",
    "df[\"is_high_food_spender\"] = df[\"가계지출_소비지출_음식숙박비\"] > df[\"가계지출_소비지출_음식숙박비\"].quantile(0.75)\n",
    "\n",
    "#3. 오픈소스 함수 실행 (GridSearchCV로 최적 조합 찾기)\n",
    "result = run_pipeline(df, target_col=\"is_high_food_spender\")\n",
    "\n",
    "#4. 결과 출력\n",
    "print(\"최고 정확도:\", result['best_score'])\n",
    "print(\"최적 파라미터:\", result['best_params'])\n",
    "\n",
    "#5. 시각화\n",
    "\n",
    "##5-1. 타겟 클래스 분포 시각화\n",
    "plt.figure(figsize=(4, 3))\n",
    "sns.countplot(x=\"is_high_food_spender\", data=df, palette=\"Set2\")\n",
    "plt.title(\"Target Class Distribution\")\n",
    "plt.xlabel(\"is_high_food_spender (0=일반, 1=고지출)\")\n",
    "plt.ylabel(\"가구 수\")\n",
    "plt.tight_layout()\n",
    "plt.show()\n",
    "\n",
    "##5-2. 조합별 정확도 비교 그래프\n",
    "results_df = pd.DataFrame(result[\"cv_results\"])\n",
    "labels = results_df['params'].apply(lambda p: f\"{p['preprocessor__num__scaler'].__class__.__name__} + n={p['classifier__n_estimators']}\")\n",
    "scores = results_df[\"mean_test_score\"]\n",
    "\n",
    "plt.figure(figsize=(6, 3))\n",
    "sns.barplot(x=labels, y=scores, palette=\"Blues_d\")\n",
    "plt.title(\"Model Accuracy by Combination\")\n",
    "plt.ylabel(\"Mean Accuracy\")\n",
    "plt.ylim(0.0, 1.05)\n",
    "plt.xticks(rotation=30)\n",
    "plt.tight_layout()\n",
    "plt.show()\n"
   ]
  }
 ],
 "metadata": {
  "kernelspec": {
   "display_name": "Python 3",
   "language": "python",
   "name": "python3"
  },
  "language_info": {
   "codemirror_mode": {
    "name": "ipython",
    "version": 3
   },
   "file_extension": ".py",
   "mimetype": "text/x-python",
   "name": "python",
   "nbconvert_exporter": "python",
   "pygments_lexer": "ipython3",
   "version": "3.10.11"
  }
 },
 "nbformat": 4,
 "nbformat_minor": 5
}
