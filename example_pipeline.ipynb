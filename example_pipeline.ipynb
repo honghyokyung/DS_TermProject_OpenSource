{
 "cells": [
  {
   "cell_type": "markdown",
   "id": "ba495678",
   "metadata": {},
   "source": [
    "# run_pipeline Example"
   ]
  },
  {
   "cell_type": "code",
   "execution_count": 2,
   "id": "748f6c31",
   "metadata": {},
   "outputs": [
    {
     "name": "stdout",
     "output_type": "stream",
     "text": [
      "Best accuracy: 0.999851576994434\n",
      "Best parameters: {'classifier__criterion': 'gini', 'classifier__max_depth': 3, 'classifier__min_samples_leaf': 1, 'classifier__min_samples_split': 2, 'preprocessor__num__scaler': StandardScaler()}\n"
     ]
    }
   ],
   "source": [
    "from run_pipeline import run_pipeline\n",
    "import pandas as pd\n",
    "from sklearn.preprocessing import StandardScaler, MinMaxScaler\n",
    "\n",
    "# Load example dataset\n",
    "df = pd.read_excel(\"final_dataset.xlsx\")\n",
    "df[\"is_high_spender\"] = df[\"가계지출금액\"] > df[\"가계지출금액\"].median()\n",
    "\n",
    "# Define parameter grid for Decision Tree\n",
    "param_grid = {\n",
    "    'preprocessor__num__scaler': [StandardScaler(), MinMaxScaler()],\n",
    "    'classifier__criterion': ['gini', 'entropy'],\n",
    "    'classifier__max_depth': [3, 5, 7, None],\n",
    "    'classifier__min_samples_split': [2, 5],\n",
    "    'classifier__min_samples_leaf': [1, 3]\n",
    "}\n",
    "\n",
    "# Run pipeline with param_grid\n",
    "result = run_pipeline(df, target_col=\"is_high_spender\", param_grid=param_grid)\n",
    "\n",
    "print(\"Best accuracy:\", result[\"best_score\"])\n",
    "print(\"Best parameters:\", result[\"best_params\"])"
   ]
  }
 ],
 "metadata": {
  "kernelspec": {
   "display_name": "Python 3",
   "language": "python",
   "name": "python3"
  },
  "language_info": {
   "codemirror_mode": {
    "name": "ipython",
    "version": 3
   },
   "file_extension": ".py",
   "mimetype": "text/x-python",
   "name": "python",
   "nbconvert_exporter": "python",
   "pygments_lexer": "ipython3",
   "version": "3.10.11"
  }
 },
 "nbformat": 4,
 "nbformat_minor": 5
}
